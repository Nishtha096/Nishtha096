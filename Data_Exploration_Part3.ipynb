{
  "nbformat": 4,
  "nbformat_minor": 0,
  "metadata": {
    "colab": {
      "name": "Data_Exploration_Part3.ipynb",
      "provenance": [],
      "collapsed_sections": [],
      "include_colab_link": true
    },
    "kernelspec": {
      "name": "python3",
      "display_name": "Python 3"
    }
  },
  "cells": [
    {
      "cell_type": "markdown",
      "metadata": {
        "id": "view-in-github",
        "colab_type": "text"
      },
      "source": [
        "<a href=\"https://colab.research.google.com/github/Nishtha096/Nishtha096/blob/main/Data_Exploration_Part3.ipynb\" target=\"_parent\"><img src=\"https://colab.research.google.com/assets/colab-badge.svg\" alt=\"Open In Colab\"/></a>"
      ]
    },
    {
      "cell_type": "markdown",
      "metadata": {
        "id": "ncq5eO7Gyh8e"
      },
      "source": [
        "The data set contains the data regarding several taxi trips and its duration in New York City. I will now try and apply different techniques of Data Analysis to get insights about the data and determine how different variables  such as **TOTAL_AMOUNT** (dependent variable) are dependent on the target variable **Trip Distance and PASSENGER_COUNT**\n",
        "\n",
        "We read the dataset into the DataFrame df and will have a look at the shape , columns , column data types and the first 5 rows of the data. This will give a brief overview of the data at hand."
      ]
    },
    {
      "cell_type": "code",
      "metadata": {
        "id": "hVpsCy6Yj9fz",
        "colab": {
          "base_uri": "https://localhost:8080/",
          "height": 52
        },
        "outputId": "796f716a-2fd8-4426-8b45-dfc571b72897"
      },
      "source": [
        "from google.colab import drive\n",
        "drive.mount('/content/drive')\n",
        "%cd /content/drive"
      ],
      "execution_count": null,
      "outputs": [
        {
          "output_type": "stream",
          "text": [
            "Drive already mounted at /content/drive; to attempt to forcibly remount, call drive.mount(\"/content/drive\", force_remount=True).\n",
            "/content/drive\n"
          ],
          "name": "stdout"
        }
      ]
    },
    {
      "cell_type": "code",
      "metadata": {
        "id": "gXneV57HUNaH",
        "colab": {
          "base_uri": "https://localhost:8080/",
          "height": 265
        },
        "outputId": "4996b1d0-5a73-46f0-9918-2548a3e424c2"
      },
      "source": [
        "import pandas as pd\n",
        "import numpy as np\n",
        "import matplotlib.pyplot as plt\n",
        "import seaborn as sns\n",
        "import datetime\n",
        "sns.set()\n",
        "PATH = 'My Drive/data_exploration/yellow_tripdata_2019-02.csv'\n",
        "df = pd.read_csv(PATH)\n",
        "print(df)"
      ],
      "execution_count": null,
      "outputs": [
        {
          "output_type": "stream",
          "text": [
            "         VendorID tpep_pickup_datetime  ... total_amount  congestion_surcharge\n",
            "0               1  2019-02-01 00:59:04  ...         12.3                   0.0\n",
            "1               1  2019-02-01 00:33:09  ...         33.3                   0.0\n",
            "2               1  2019-02-01 00:09:03  ...          3.8                   0.0\n",
            "3               1  2019-02-01 00:45:38  ...          6.8                   0.0\n",
            "4               1  2019-02-01 00:25:30  ...          6.3                   0.0\n",
            "...           ...                  ...  ...          ...                   ...\n",
            "7019370         2  2019-02-28 23:29:08  ...          0.0                   0.0\n",
            "7019371         2  2019-02-28 22:48:47  ...          0.0                   2.5\n",
            "7019372         2  2019-02-28 23:41:23  ...          0.0                   0.0\n",
            "7019373         2  2019-02-28 23:12:52  ...          0.0                   0.0\n",
            "7019374         2  2019-02-28 23:10:35  ...          0.0                   0.0\n",
            "\n",
            "[7019375 rows x 18 columns]\n"
          ],
          "name": "stdout"
        }
      ]
    },
    {
      "cell_type": "markdown",
      "metadata": {
        "id": "Btdgy3rNcvs4"
      },
      "source": [
        "From the data frame we observe that,the rows are trips and columns are the features related to each trip."
      ]
    },
    {
      "cell_type": "code",
      "metadata": {
        "id": "aRKITj6MXncq",
        "colab": {
          "base_uri": "https://localhost:8080/",
          "height": 217
        },
        "outputId": "09715cb5-bd8f-47db-8669-5c92ca466cd5"
      },
      "source": [
        "df.head()  #gives the first five rows of data set with all entries/information"
      ],
      "execution_count": null,
      "outputs": [
        {
          "output_type": "execute_result",
          "data": {
            "text/html": [
              "<div>\n",
              "<style scoped>\n",
              "    .dataframe tbody tr th:only-of-type {\n",
              "        vertical-align: middle;\n",
              "    }\n",
              "\n",
              "    .dataframe tbody tr th {\n",
              "        vertical-align: top;\n",
              "    }\n",
              "\n",
              "    .dataframe thead th {\n",
              "        text-align: right;\n",
              "    }\n",
              "</style>\n",
              "<table border=\"1\" class=\"dataframe\">\n",
              "  <thead>\n",
              "    <tr style=\"text-align: right;\">\n",
              "      <th></th>\n",
              "      <th>VendorID</th>\n",
              "      <th>tpep_pickup_datetime</th>\n",
              "      <th>tpep_dropoff_datetime</th>\n",
              "      <th>passenger_count</th>\n",
              "      <th>trip_distance</th>\n",
              "      <th>RatecodeID</th>\n",
              "      <th>store_and_fwd_flag</th>\n",
              "      <th>PULocationID</th>\n",
              "      <th>DOLocationID</th>\n",
              "      <th>payment_type</th>\n",
              "      <th>fare_amount</th>\n",
              "      <th>extra</th>\n",
              "      <th>mta_tax</th>\n",
              "      <th>tip_amount</th>\n",
              "      <th>tolls_amount</th>\n",
              "      <th>improvement_surcharge</th>\n",
              "      <th>total_amount</th>\n",
              "      <th>congestion_surcharge</th>\n",
              "    </tr>\n",
              "  </thead>\n",
              "  <tbody>\n",
              "    <tr>\n",
              "      <th>0</th>\n",
              "      <td>1</td>\n",
              "      <td>2019-02-01 00:59:04</td>\n",
              "      <td>2019-02-01 01:07:27</td>\n",
              "      <td>1</td>\n",
              "      <td>2.1</td>\n",
              "      <td>1</td>\n",
              "      <td>N</td>\n",
              "      <td>48</td>\n",
              "      <td>234</td>\n",
              "      <td>1</td>\n",
              "      <td>9.0</td>\n",
              "      <td>0.5</td>\n",
              "      <td>0.5</td>\n",
              "      <td>2.0</td>\n",
              "      <td>0.0</td>\n",
              "      <td>0.3</td>\n",
              "      <td>12.3</td>\n",
              "      <td>0.0</td>\n",
              "    </tr>\n",
              "    <tr>\n",
              "      <th>1</th>\n",
              "      <td>1</td>\n",
              "      <td>2019-02-01 00:33:09</td>\n",
              "      <td>2019-02-01 01:03:58</td>\n",
              "      <td>1</td>\n",
              "      <td>9.8</td>\n",
              "      <td>1</td>\n",
              "      <td>N</td>\n",
              "      <td>230</td>\n",
              "      <td>93</td>\n",
              "      <td>2</td>\n",
              "      <td>32.0</td>\n",
              "      <td>0.5</td>\n",
              "      <td>0.5</td>\n",
              "      <td>0.0</td>\n",
              "      <td>0.0</td>\n",
              "      <td>0.3</td>\n",
              "      <td>33.3</td>\n",
              "      <td>0.0</td>\n",
              "    </tr>\n",
              "    <tr>\n",
              "      <th>2</th>\n",
              "      <td>1</td>\n",
              "      <td>2019-02-01 00:09:03</td>\n",
              "      <td>2019-02-01 00:09:16</td>\n",
              "      <td>1</td>\n",
              "      <td>0.0</td>\n",
              "      <td>1</td>\n",
              "      <td>N</td>\n",
              "      <td>145</td>\n",
              "      <td>145</td>\n",
              "      <td>2</td>\n",
              "      <td>2.5</td>\n",
              "      <td>0.5</td>\n",
              "      <td>0.5</td>\n",
              "      <td>0.0</td>\n",
              "      <td>0.0</td>\n",
              "      <td>0.3</td>\n",
              "      <td>3.8</td>\n",
              "      <td>0.0</td>\n",
              "    </tr>\n",
              "    <tr>\n",
              "      <th>3</th>\n",
              "      <td>1</td>\n",
              "      <td>2019-02-01 00:45:38</td>\n",
              "      <td>2019-02-01 00:51:10</td>\n",
              "      <td>1</td>\n",
              "      <td>0.8</td>\n",
              "      <td>1</td>\n",
              "      <td>N</td>\n",
              "      <td>95</td>\n",
              "      <td>95</td>\n",
              "      <td>2</td>\n",
              "      <td>5.5</td>\n",
              "      <td>0.5</td>\n",
              "      <td>0.5</td>\n",
              "      <td>0.0</td>\n",
              "      <td>0.0</td>\n",
              "      <td>0.3</td>\n",
              "      <td>6.8</td>\n",
              "      <td>0.0</td>\n",
              "    </tr>\n",
              "    <tr>\n",
              "      <th>4</th>\n",
              "      <td>1</td>\n",
              "      <td>2019-02-01 00:25:30</td>\n",
              "      <td>2019-02-01 00:28:14</td>\n",
              "      <td>1</td>\n",
              "      <td>0.8</td>\n",
              "      <td>1</td>\n",
              "      <td>N</td>\n",
              "      <td>140</td>\n",
              "      <td>263</td>\n",
              "      <td>2</td>\n",
              "      <td>5.0</td>\n",
              "      <td>0.5</td>\n",
              "      <td>0.5</td>\n",
              "      <td>0.0</td>\n",
              "      <td>0.0</td>\n",
              "      <td>0.3</td>\n",
              "      <td>6.3</td>\n",
              "      <td>0.0</td>\n",
              "    </tr>\n",
              "  </tbody>\n",
              "</table>\n",
              "</div>"
            ],
            "text/plain": [
              "   VendorID tpep_pickup_datetime  ... total_amount  congestion_surcharge\n",
              "0         1  2019-02-01 00:59:04  ...         12.3                   0.0\n",
              "1         1  2019-02-01 00:33:09  ...         33.3                   0.0\n",
              "2         1  2019-02-01 00:09:03  ...          3.8                   0.0\n",
              "3         1  2019-02-01 00:45:38  ...          6.8                   0.0\n",
              "4         1  2019-02-01 00:25:30  ...          6.3                   0.0\n",
              "\n",
              "[5 rows x 18 columns]"
            ]
          },
          "metadata": {
            "tags": []
          },
          "execution_count": 10
        }
      ]
    },
    {
      "cell_type": "code",
      "metadata": {
        "id": "CEMf3MxcZukN",
        "colab": {
          "base_uri": "https://localhost:8080/",
          "height": 354
        },
        "outputId": "98f7b46b-60da-43fb-95de-c9a6f0a86c6e"
      },
      "source": [
        "#it gives the data types of all the columns\n",
        "df.dtypes   "
      ],
      "execution_count": null,
      "outputs": [
        {
          "output_type": "execute_result",
          "data": {
            "text/plain": [
              "VendorID                   int64\n",
              "tpep_pickup_datetime      object\n",
              "tpep_dropoff_datetime     object\n",
              "passenger_count            int64\n",
              "trip_distance            float64\n",
              "RatecodeID                 int64\n",
              "store_and_fwd_flag        object\n",
              "PULocationID               int64\n",
              "DOLocationID               int64\n",
              "payment_type               int64\n",
              "fare_amount              float64\n",
              "extra                    float64\n",
              "mta_tax                  float64\n",
              "tip_amount               float64\n",
              "tolls_amount             float64\n",
              "improvement_surcharge    float64\n",
              "total_amount             float64\n",
              "congestion_surcharge     float64\n",
              "dtype: object"
            ]
          },
          "metadata": {
            "tags": []
          },
          "execution_count": 11
        }
      ]
    },
    {
      "cell_type": "markdown",
      "metadata": {
        "id": "AlfWGWxOokGO"
      },
      "source": [
        "Here’s what we know about the columns:\n",
        "\n",
        "**Demographic information of Customer & Vendor**\n",
        "   \n",
        "\n",
        "**vendor_id** : a code indicating the provider associated with the trip record\n",
        "\n",
        "**passenger_count** : the number of passengers in the vehicle (driver entered value)\n",
        "\n",
        "\n",
        "\n"
      ]
    },
    {
      "cell_type": "code",
      "metadata": {
        "id": "hvspEp1Ri9gv",
        "colab": {
          "base_uri": "https://localhost:8080/",
          "height": 461
        },
        "outputId": "eef7b18a-04ba-4f24-ffa5-ee705a8f6d6c"
      },
      "source": [
        "df.info()"
      ],
      "execution_count": null,
      "outputs": [
        {
          "output_type": "stream",
          "text": [
            "<class 'pandas.core.frame.DataFrame'>\n",
            "RangeIndex: 7019375 entries, 0 to 7019374\n",
            "Data columns (total 18 columns):\n",
            " #   Column                 Dtype  \n",
            "---  ------                 -----  \n",
            " 0   VendorID               int64  \n",
            " 1   tpep_pickup_datetime   object \n",
            " 2   tpep_dropoff_datetime  object \n",
            " 3   passenger_count        int64  \n",
            " 4   trip_distance          float64\n",
            " 5   RatecodeID             int64  \n",
            " 6   store_and_fwd_flag     object \n",
            " 7   PULocationID           int64  \n",
            " 8   DOLocationID           int64  \n",
            " 9   payment_type           int64  \n",
            " 10  fare_amount            float64\n",
            " 11  extra                  float64\n",
            " 12  mta_tax                float64\n",
            " 13  tip_amount             float64\n",
            " 14  tolls_amount           float64\n",
            " 15  improvement_surcharge  float64\n",
            " 16  total_amount           float64\n",
            " 17  congestion_surcharge   float64\n",
            "dtypes: float64(9), int64(6), object(3)\n",
            "memory usage: 964.0+ MB\n"
          ],
          "name": "stdout"
        }
      ]
    },
    {
      "cell_type": "code",
      "metadata": {
        "id": "NT1OdgE1aMpL",
        "colab": {
          "base_uri": "https://localhost:8080/",
          "height": 123
        },
        "outputId": "e5aba536-2837-48dc-b358-5529f25b141a"
      },
      "source": [
        "df.columns #it gives a list of all the columns that are actually attributes of each trip"
      ],
      "execution_count": null,
      "outputs": [
        {
          "output_type": "execute_result",
          "data": {
            "text/plain": [
              "Index(['VendorID', 'tpep_pickup_datetime', 'tpep_dropoff_datetime',\n",
              "       'passenger_count', 'trip_distance', 'RatecodeID', 'store_and_fwd_flag',\n",
              "       'PULocationID', 'DOLocationID', 'payment_type', 'fare_amount', 'extra',\n",
              "       'mta_tax', 'tip_amount', 'tolls_amount', 'improvement_surcharge',\n",
              "       'total_amount', 'congestion_surcharge'],\n",
              "      dtype='object')"
            ]
          },
          "metadata": {
            "tags": []
          },
          "execution_count": 13
        }
      ]
    },
    {
      "cell_type": "markdown",
      "metadata": {
        "id": "pL8iVa4_2VxB"
      },
      "source": [
        "**Information about the Trip**\n",
        "\n",
        "\n",
        "**store_and_fwd_flag** : This flag indicates whether the trip record was held in vehicle memory before sending to the vendor because the vehicle did not have a connection to the server (Y=store and forward; N=not a store and forward trip)\n",
        "\n",
        "**trip_distance** : (target) distnce of the trip in kilometre\n",
        "Thus we have a data set with 994380 rows and 18 columns. There are 17 features and 2 target variable which are trip_distance and passenger_count\n"
      ]
    },
    {
      "cell_type": "markdown",
      "metadata": {
        "id": "3JzahnvXyPqj"
      },
      "source": [
        "This gives us a list of renamed column labels.It is optional,when the label gets to complicated or long we can rename them. "
      ]
    },
    {
      "cell_type": "code",
      "metadata": {
        "id": "IHc4kumDvPWX",
        "colab": {
          "base_uri": "https://localhost:8080/",
          "height": 265
        },
        "outputId": "b4289754-6591-446d-e2d4-ec8845db7e8e"
      },
      "source": [
        "df.isnull  #checks if any null value is present"
      ],
      "execution_count": null,
      "outputs": [
        {
          "output_type": "execute_result",
          "data": {
            "text/plain": [
              "<bound method DataFrame.isnull of          VendorID tpep_pickup_datetime  ... total_amount  congestion_surcharge\n",
              "0               1  2019-02-01 00:59:04  ...         12.3                   0.0\n",
              "1               1  2019-02-01 00:33:09  ...         33.3                   0.0\n",
              "2               1  2019-02-01 00:09:03  ...          3.8                   0.0\n",
              "3               1  2019-02-01 00:45:38  ...          6.8                   0.0\n",
              "4               1  2019-02-01 00:25:30  ...          6.3                   0.0\n",
              "...           ...                  ...  ...          ...                   ...\n",
              "7019370         2  2019-02-28 23:29:08  ...          0.0                   0.0\n",
              "7019371         2  2019-02-28 22:48:47  ...          0.0                   2.5\n",
              "7019372         2  2019-02-28 23:41:23  ...          0.0                   0.0\n",
              "7019373         2  2019-02-28 23:12:52  ...          0.0                   0.0\n",
              "7019374         2  2019-02-28 23:10:35  ...          0.0                   0.0\n",
              "\n",
              "[7019375 rows x 18 columns]>"
            ]
          },
          "metadata": {
            "tags": []
          },
          "execution_count": 14
        }
      ]
    },
    {
      "cell_type": "code",
      "metadata": {
        "id": "cZcaPaaHs9Xo",
        "colab": {
          "base_uri": "https://localhost:8080/",
          "height": 426
        },
        "outputId": "eed9d016-47ac-4695-e5f6-08170e250b09"
      },
      "source": [
        "df.fillna(0)"
      ],
      "execution_count": null,
      "outputs": [
        {
          "output_type": "execute_result",
          "data": {
            "text/html": [
              "<div>\n",
              "<style scoped>\n",
              "    .dataframe tbody tr th:only-of-type {\n",
              "        vertical-align: middle;\n",
              "    }\n",
              "\n",
              "    .dataframe tbody tr th {\n",
              "        vertical-align: top;\n",
              "    }\n",
              "\n",
              "    .dataframe thead th {\n",
              "        text-align: right;\n",
              "    }\n",
              "</style>\n",
              "<table border=\"1\" class=\"dataframe\">\n",
              "  <thead>\n",
              "    <tr style=\"text-align: right;\">\n",
              "      <th></th>\n",
              "      <th>VendorID</th>\n",
              "      <th>tpep_pickup_datetime</th>\n",
              "      <th>tpep_dropoff_datetime</th>\n",
              "      <th>passenger_count</th>\n",
              "      <th>trip_distance</th>\n",
              "      <th>RatecodeID</th>\n",
              "      <th>store_and_fwd_flag</th>\n",
              "      <th>PULocationID</th>\n",
              "      <th>DOLocationID</th>\n",
              "      <th>payment_type</th>\n",
              "      <th>fare_amount</th>\n",
              "      <th>extra</th>\n",
              "      <th>mta_tax</th>\n",
              "      <th>tip_amount</th>\n",
              "      <th>tolls_amount</th>\n",
              "      <th>improvement_surcharge</th>\n",
              "      <th>total_amount</th>\n",
              "      <th>congestion_surcharge</th>\n",
              "    </tr>\n",
              "  </thead>\n",
              "  <tbody>\n",
              "    <tr>\n",
              "      <th>0</th>\n",
              "      <td>1</td>\n",
              "      <td>2019-02-01 00:59:04</td>\n",
              "      <td>2019-02-01 01:07:27</td>\n",
              "      <td>1</td>\n",
              "      <td>2.1</td>\n",
              "      <td>1</td>\n",
              "      <td>N</td>\n",
              "      <td>48</td>\n",
              "      <td>234</td>\n",
              "      <td>1</td>\n",
              "      <td>9.0</td>\n",
              "      <td>0.5</td>\n",
              "      <td>0.5</td>\n",
              "      <td>2.0</td>\n",
              "      <td>0.0</td>\n",
              "      <td>0.3</td>\n",
              "      <td>12.3</td>\n",
              "      <td>0.0</td>\n",
              "    </tr>\n",
              "    <tr>\n",
              "      <th>1</th>\n",
              "      <td>1</td>\n",
              "      <td>2019-02-01 00:33:09</td>\n",
              "      <td>2019-02-01 01:03:58</td>\n",
              "      <td>1</td>\n",
              "      <td>9.8</td>\n",
              "      <td>1</td>\n",
              "      <td>N</td>\n",
              "      <td>230</td>\n",
              "      <td>93</td>\n",
              "      <td>2</td>\n",
              "      <td>32.0</td>\n",
              "      <td>0.5</td>\n",
              "      <td>0.5</td>\n",
              "      <td>0.0</td>\n",
              "      <td>0.0</td>\n",
              "      <td>0.3</td>\n",
              "      <td>33.3</td>\n",
              "      <td>0.0</td>\n",
              "    </tr>\n",
              "    <tr>\n",
              "      <th>2</th>\n",
              "      <td>1</td>\n",
              "      <td>2019-02-01 00:09:03</td>\n",
              "      <td>2019-02-01 00:09:16</td>\n",
              "      <td>1</td>\n",
              "      <td>0.0</td>\n",
              "      <td>1</td>\n",
              "      <td>N</td>\n",
              "      <td>145</td>\n",
              "      <td>145</td>\n",
              "      <td>2</td>\n",
              "      <td>2.5</td>\n",
              "      <td>0.5</td>\n",
              "      <td>0.5</td>\n",
              "      <td>0.0</td>\n",
              "      <td>0.0</td>\n",
              "      <td>0.3</td>\n",
              "      <td>3.8</td>\n",
              "      <td>0.0</td>\n",
              "    </tr>\n",
              "    <tr>\n",
              "      <th>3</th>\n",
              "      <td>1</td>\n",
              "      <td>2019-02-01 00:45:38</td>\n",
              "      <td>2019-02-01 00:51:10</td>\n",
              "      <td>1</td>\n",
              "      <td>0.8</td>\n",
              "      <td>1</td>\n",
              "      <td>N</td>\n",
              "      <td>95</td>\n",
              "      <td>95</td>\n",
              "      <td>2</td>\n",
              "      <td>5.5</td>\n",
              "      <td>0.5</td>\n",
              "      <td>0.5</td>\n",
              "      <td>0.0</td>\n",
              "      <td>0.0</td>\n",
              "      <td>0.3</td>\n",
              "      <td>6.8</td>\n",
              "      <td>0.0</td>\n",
              "    </tr>\n",
              "    <tr>\n",
              "      <th>4</th>\n",
              "      <td>1</td>\n",
              "      <td>2019-02-01 00:25:30</td>\n",
              "      <td>2019-02-01 00:28:14</td>\n",
              "      <td>1</td>\n",
              "      <td>0.8</td>\n",
              "      <td>1</td>\n",
              "      <td>N</td>\n",
              "      <td>140</td>\n",
              "      <td>263</td>\n",
              "      <td>2</td>\n",
              "      <td>5.0</td>\n",
              "      <td>0.5</td>\n",
              "      <td>0.5</td>\n",
              "      <td>0.0</td>\n",
              "      <td>0.0</td>\n",
              "      <td>0.3</td>\n",
              "      <td>6.3</td>\n",
              "      <td>0.0</td>\n",
              "    </tr>\n",
              "    <tr>\n",
              "      <th>...</th>\n",
              "      <td>...</td>\n",
              "      <td>...</td>\n",
              "      <td>...</td>\n",
              "      <td>...</td>\n",
              "      <td>...</td>\n",
              "      <td>...</td>\n",
              "      <td>...</td>\n",
              "      <td>...</td>\n",
              "      <td>...</td>\n",
              "      <td>...</td>\n",
              "      <td>...</td>\n",
              "      <td>...</td>\n",
              "      <td>...</td>\n",
              "      <td>...</td>\n",
              "      <td>...</td>\n",
              "      <td>...</td>\n",
              "      <td>...</td>\n",
              "      <td>...</td>\n",
              "    </tr>\n",
              "    <tr>\n",
              "      <th>7019370</th>\n",
              "      <td>2</td>\n",
              "      <td>2019-02-28 23:29:08</td>\n",
              "      <td>2019-02-28 23:29:11</td>\n",
              "      <td>1</td>\n",
              "      <td>0.0</td>\n",
              "      <td>1</td>\n",
              "      <td>N</td>\n",
              "      <td>193</td>\n",
              "      <td>193</td>\n",
              "      <td>1</td>\n",
              "      <td>0.0</td>\n",
              "      <td>0.0</td>\n",
              "      <td>0.0</td>\n",
              "      <td>0.0</td>\n",
              "      <td>0.0</td>\n",
              "      <td>0.0</td>\n",
              "      <td>0.0</td>\n",
              "      <td>0.0</td>\n",
              "    </tr>\n",
              "    <tr>\n",
              "      <th>7019371</th>\n",
              "      <td>2</td>\n",
              "      <td>2019-02-28 22:48:47</td>\n",
              "      <td>2019-02-28 23:50:19</td>\n",
              "      <td>1</td>\n",
              "      <td>0.0</td>\n",
              "      <td>1</td>\n",
              "      <td>N</td>\n",
              "      <td>141</td>\n",
              "      <td>193</td>\n",
              "      <td>2</td>\n",
              "      <td>0.0</td>\n",
              "      <td>0.0</td>\n",
              "      <td>0.0</td>\n",
              "      <td>0.0</td>\n",
              "      <td>0.0</td>\n",
              "      <td>0.0</td>\n",
              "      <td>0.0</td>\n",
              "      <td>2.5</td>\n",
              "    </tr>\n",
              "    <tr>\n",
              "      <th>7019372</th>\n",
              "      <td>2</td>\n",
              "      <td>2019-02-28 23:41:23</td>\n",
              "      <td>2019-02-28 23:42:23</td>\n",
              "      <td>1</td>\n",
              "      <td>0.0</td>\n",
              "      <td>1</td>\n",
              "      <td>N</td>\n",
              "      <td>264</td>\n",
              "      <td>264</td>\n",
              "      <td>1</td>\n",
              "      <td>0.0</td>\n",
              "      <td>0.0</td>\n",
              "      <td>0.0</td>\n",
              "      <td>0.0</td>\n",
              "      <td>0.0</td>\n",
              "      <td>0.0</td>\n",
              "      <td>0.0</td>\n",
              "      <td>0.0</td>\n",
              "    </tr>\n",
              "    <tr>\n",
              "      <th>7019373</th>\n",
              "      <td>2</td>\n",
              "      <td>2019-02-28 23:12:52</td>\n",
              "      <td>2019-02-28 23:14:16</td>\n",
              "      <td>1</td>\n",
              "      <td>0.0</td>\n",
              "      <td>1</td>\n",
              "      <td>N</td>\n",
              "      <td>264</td>\n",
              "      <td>193</td>\n",
              "      <td>1</td>\n",
              "      <td>0.0</td>\n",
              "      <td>0.0</td>\n",
              "      <td>0.0</td>\n",
              "      <td>0.0</td>\n",
              "      <td>0.0</td>\n",
              "      <td>0.0</td>\n",
              "      <td>0.0</td>\n",
              "      <td>0.0</td>\n",
              "    </tr>\n",
              "    <tr>\n",
              "      <th>7019374</th>\n",
              "      <td>2</td>\n",
              "      <td>2019-02-28 23:10:35</td>\n",
              "      <td>2019-02-28 23:10:37</td>\n",
              "      <td>1</td>\n",
              "      <td>0.0</td>\n",
              "      <td>1</td>\n",
              "      <td>N</td>\n",
              "      <td>264</td>\n",
              "      <td>264</td>\n",
              "      <td>2</td>\n",
              "      <td>0.0</td>\n",
              "      <td>0.0</td>\n",
              "      <td>0.0</td>\n",
              "      <td>0.0</td>\n",
              "      <td>0.0</td>\n",
              "      <td>0.0</td>\n",
              "      <td>0.0</td>\n",
              "      <td>0.0</td>\n",
              "    </tr>\n",
              "  </tbody>\n",
              "</table>\n",
              "<p>7019375 rows × 18 columns</p>\n",
              "</div>"
            ],
            "text/plain": [
              "         VendorID tpep_pickup_datetime  ... total_amount  congestion_surcharge\n",
              "0               1  2019-02-01 00:59:04  ...         12.3                   0.0\n",
              "1               1  2019-02-01 00:33:09  ...         33.3                   0.0\n",
              "2               1  2019-02-01 00:09:03  ...          3.8                   0.0\n",
              "3               1  2019-02-01 00:45:38  ...          6.8                   0.0\n",
              "4               1  2019-02-01 00:25:30  ...          6.3                   0.0\n",
              "...           ...                  ...  ...          ...                   ...\n",
              "7019370         2  2019-02-28 23:29:08  ...          0.0                   0.0\n",
              "7019371         2  2019-02-28 22:48:47  ...          0.0                   2.5\n",
              "7019372         2  2019-02-28 23:41:23  ...          0.0                   0.0\n",
              "7019373         2  2019-02-28 23:12:52  ...          0.0                   0.0\n",
              "7019374         2  2019-02-28 23:10:35  ...          0.0                   0.0\n",
              "\n",
              "[7019375 rows x 18 columns]"
            ]
          },
          "metadata": {
            "tags": []
          },
          "execution_count": 15
        }
      ]
    },
    {
      "cell_type": "code",
      "metadata": {
        "id": "1y-rKuskcx6u",
        "colab": {
          "base_uri": "https://localhost:8080/",
          "height": 34
        },
        "outputId": "c763dffa-6595-4e5a-ef75-11a66db3bdcd"
      },
      "source": [
        " #it gives the no. of rows and columns\n",
        "df.shape"
      ],
      "execution_count": null,
      "outputs": [
        {
          "output_type": "execute_result",
          "data": {
            "text/plain": [
              "(7019375, 18)"
            ]
          },
          "metadata": {
            "tags": []
          },
          "execution_count": 16
        }
      ]
    },
    {
      "cell_type": "code",
      "metadata": {
        "id": "lAYHJAPVeaxJ",
        "colab": {
          "base_uri": "https://localhost:8080/",
          "height": 324
        },
        "outputId": "2ca58c05-daf5-49a3-b10d-c6d48a4320b4"
      },
      "source": [
        "#it tells about  the numerical columns with all statistical info\n",
        "df.describe()"
      ],
      "execution_count": null,
      "outputs": [
        {
          "output_type": "execute_result",
          "data": {
            "text/html": [
              "<div>\n",
              "<style scoped>\n",
              "    .dataframe tbody tr th:only-of-type {\n",
              "        vertical-align: middle;\n",
              "    }\n",
              "\n",
              "    .dataframe tbody tr th {\n",
              "        vertical-align: top;\n",
              "    }\n",
              "\n",
              "    .dataframe thead th {\n",
              "        text-align: right;\n",
              "    }\n",
              "</style>\n",
              "<table border=\"1\" class=\"dataframe\">\n",
              "  <thead>\n",
              "    <tr style=\"text-align: right;\">\n",
              "      <th></th>\n",
              "      <th>VendorID</th>\n",
              "      <th>passenger_count</th>\n",
              "      <th>trip_distance</th>\n",
              "      <th>RatecodeID</th>\n",
              "      <th>PULocationID</th>\n",
              "      <th>DOLocationID</th>\n",
              "      <th>payment_type</th>\n",
              "      <th>fare_amount</th>\n",
              "      <th>extra</th>\n",
              "      <th>mta_tax</th>\n",
              "      <th>tip_amount</th>\n",
              "      <th>tolls_amount</th>\n",
              "      <th>improvement_surcharge</th>\n",
              "      <th>total_amount</th>\n",
              "      <th>congestion_surcharge</th>\n",
              "    </tr>\n",
              "  </thead>\n",
              "  <tbody>\n",
              "    <tr>\n",
              "      <th>count</th>\n",
              "      <td>7.019375e+06</td>\n",
              "      <td>7.019375e+06</td>\n",
              "      <td>7.019375e+06</td>\n",
              "      <td>7.019375e+06</td>\n",
              "      <td>7.019375e+06</td>\n",
              "      <td>7.019375e+06</td>\n",
              "      <td>7.019375e+06</td>\n",
              "      <td>7.019375e+06</td>\n",
              "      <td>7.019375e+06</td>\n",
              "      <td>7.019375e+06</td>\n",
              "      <td>7.019375e+06</td>\n",
              "      <td>7.019375e+06</td>\n",
              "      <td>7.019375e+06</td>\n",
              "      <td>7.019375e+06</td>\n",
              "      <td>7.019375e+06</td>\n",
              "    </tr>\n",
              "    <tr>\n",
              "      <th>mean</th>\n",
              "      <td>1.636639e+00</td>\n",
              "      <td>1.571420e+00</td>\n",
              "      <td>2.884923e+00</td>\n",
              "      <td>1.061126e+00</td>\n",
              "      <td>1.635093e+02</td>\n",
              "      <td>1.618032e+02</td>\n",
              "      <td>1.269927e+00</td>\n",
              "      <td>1.274671e+01</td>\n",
              "      <td>1.157935e+00</td>\n",
              "      <td>4.959597e-01</td>\n",
              "      <td>2.163211e+00</td>\n",
              "      <td>3.417304e-01</td>\n",
              "      <td>2.990787e-01</td>\n",
              "      <td>1.855685e+01</td>\n",
              "      <td>2.174607e+00</td>\n",
              "    </tr>\n",
              "    <tr>\n",
              "      <th>std</th>\n",
              "      <td>5.248609e-01</td>\n",
              "      <td>1.228251e+00</td>\n",
              "      <td>3.780133e+00</td>\n",
              "      <td>6.375023e-01</td>\n",
              "      <td>6.594377e+01</td>\n",
              "      <td>7.007866e+01</td>\n",
              "      <td>4.666125e-01</td>\n",
              "      <td>2.559149e+02</td>\n",
              "      <td>1.268855e+00</td>\n",
              "      <td>5.240430e-02</td>\n",
              "      <td>2.634801e+00</td>\n",
              "      <td>1.673112e+00</td>\n",
              "      <td>2.279303e-02</td>\n",
              "      <td>2.560429e+02</td>\n",
              "      <td>8.464274e-01</td>\n",
              "    </tr>\n",
              "    <tr>\n",
              "      <th>min</th>\n",
              "      <td>1.000000e+00</td>\n",
              "      <td>0.000000e+00</td>\n",
              "      <td>0.000000e+00</td>\n",
              "      <td>1.000000e+00</td>\n",
              "      <td>1.000000e+00</td>\n",
              "      <td>1.000000e+00</td>\n",
              "      <td>1.000000e+00</td>\n",
              "      <td>-4.000000e+02</td>\n",
              "      <td>-4.500000e+00</td>\n",
              "      <td>-5.000000e-01</td>\n",
              "      <td>-6.200000e+01</td>\n",
              "      <td>-2.626000e+01</td>\n",
              "      <td>-3.000000e-01</td>\n",
              "      <td>-4.008000e+02</td>\n",
              "      <td>-2.500000e+00</td>\n",
              "    </tr>\n",
              "    <tr>\n",
              "      <th>25%</th>\n",
              "      <td>1.000000e+00</td>\n",
              "      <td>1.000000e+00</td>\n",
              "      <td>9.400000e-01</td>\n",
              "      <td>1.000000e+00</td>\n",
              "      <td>1.140000e+02</td>\n",
              "      <td>1.120000e+02</td>\n",
              "      <td>1.000000e+00</td>\n",
              "      <td>6.500000e+00</td>\n",
              "      <td>0.000000e+00</td>\n",
              "      <td>5.000000e-01</td>\n",
              "      <td>0.000000e+00</td>\n",
              "      <td>0.000000e+00</td>\n",
              "      <td>3.000000e-01</td>\n",
              "      <td>1.100000e+01</td>\n",
              "      <td>2.500000e+00</td>\n",
              "    </tr>\n",
              "    <tr>\n",
              "      <th>50%</th>\n",
              "      <td>2.000000e+00</td>\n",
              "      <td>1.000000e+00</td>\n",
              "      <td>1.600000e+00</td>\n",
              "      <td>1.000000e+00</td>\n",
              "      <td>1.620000e+02</td>\n",
              "      <td>1.620000e+02</td>\n",
              "      <td>1.000000e+00</td>\n",
              "      <td>9.000000e+00</td>\n",
              "      <td>5.000000e-01</td>\n",
              "      <td>5.000000e-01</td>\n",
              "      <td>1.860000e+00</td>\n",
              "      <td>0.000000e+00</td>\n",
              "      <td>3.000000e-01</td>\n",
              "      <td>1.416000e+01</td>\n",
              "      <td>2.500000e+00</td>\n",
              "    </tr>\n",
              "    <tr>\n",
              "      <th>75%</th>\n",
              "      <td>2.000000e+00</td>\n",
              "      <td>2.000000e+00</td>\n",
              "      <td>2.910000e+00</td>\n",
              "      <td>1.000000e+00</td>\n",
              "      <td>2.330000e+02</td>\n",
              "      <td>2.340000e+02</td>\n",
              "      <td>2.000000e+00</td>\n",
              "      <td>1.400000e+01</td>\n",
              "      <td>2.500000e+00</td>\n",
              "      <td>5.000000e-01</td>\n",
              "      <td>2.860000e+00</td>\n",
              "      <td>0.000000e+00</td>\n",
              "      <td>3.000000e-01</td>\n",
              "      <td>1.980000e+01</td>\n",
              "      <td>2.500000e+00</td>\n",
              "    </tr>\n",
              "    <tr>\n",
              "      <th>max</th>\n",
              "      <td>4.000000e+00</td>\n",
              "      <td>9.000000e+00</td>\n",
              "      <td>7.015000e+02</td>\n",
              "      <td>9.900000e+01</td>\n",
              "      <td>2.650000e+02</td>\n",
              "      <td>2.650000e+02</td>\n",
              "      <td>4.000000e+00</td>\n",
              "      <td>6.711231e+05</td>\n",
              "      <td>1.850000e+01</td>\n",
              "      <td>2.439000e+01</td>\n",
              "      <td>4.996900e+02</td>\n",
              "      <td>7.715200e+02</td>\n",
              "      <td>1.000000e+00</td>\n",
              "      <td>6.711249e+05</td>\n",
              "      <td>2.750000e+00</td>\n",
              "    </tr>\n",
              "  </tbody>\n",
              "</table>\n",
              "</div>"
            ],
            "text/plain": [
              "           VendorID  passenger_count  ...  total_amount  congestion_surcharge\n",
              "count  7.019375e+06     7.019375e+06  ...  7.019375e+06          7.019375e+06\n",
              "mean   1.636639e+00     1.571420e+00  ...  1.855685e+01          2.174607e+00\n",
              "std    5.248609e-01     1.228251e+00  ...  2.560429e+02          8.464274e-01\n",
              "min    1.000000e+00     0.000000e+00  ... -4.008000e+02         -2.500000e+00\n",
              "25%    1.000000e+00     1.000000e+00  ...  1.100000e+01          2.500000e+00\n",
              "50%    2.000000e+00     1.000000e+00  ...  1.416000e+01          2.500000e+00\n",
              "75%    2.000000e+00     2.000000e+00  ...  1.980000e+01          2.500000e+00\n",
              "max    4.000000e+00     9.000000e+00  ...  6.711249e+05          2.750000e+00\n",
              "\n",
              "[8 rows x 15 columns]"
            ]
          },
          "metadata": {
            "tags": []
          },
          "execution_count": 17
        }
      ]
    },
    {
      "cell_type": "markdown",
      "metadata": {
        "id": "9Wyf__bi5E7Y"
      },
      "source": [
        "Some observations about the data:\n",
        "\n",
        "The column vendor_id is nominal.\n",
        "\n",
        "The columns pickup_datetime and dropoff_datetime are stored as object which must be converted to datetime for better analysis.\n",
        "\n",
        "The column store_and_fwd_flag is categorical"
      ]
    },
    {
      "cell_type": "markdown",
      "metadata": {
        "id": "nuBA6Z7S5mFE"
      },
      "source": [
        "***The returned table gives certain insights***:\n",
        "\n",
        "There are no numerical columns with missing data\n",
        "\n",
        "The passenger count varies between 1 and 9 with most people number of people being 1 or 2\n",
        "\n",
        "The trip distance varying from 0km to 701.5 km. There are definitely some outliers present which must be treated.\n",
        "\n",
        "\n",
        "\n",
        "Lets have a quick look at the non-numerical columns,\n",
        "non_num_cols="
      ]
    },
    {
      "cell_type": "code",
      "metadata": {
        "id": "vPXMe-tZtlQQ",
        "colab": {
          "base_uri": "https://localhost:8080/",
          "height": 426
        },
        "outputId": "d777d85b-ac6b-484e-f65f-448f77f7ad0f"
      },
      "source": [
        "df.sort_index()"
      ],
      "execution_count": null,
      "outputs": [
        {
          "output_type": "execute_result",
          "data": {
            "text/html": [
              "<div>\n",
              "<style scoped>\n",
              "    .dataframe tbody tr th:only-of-type {\n",
              "        vertical-align: middle;\n",
              "    }\n",
              "\n",
              "    .dataframe tbody tr th {\n",
              "        vertical-align: top;\n",
              "    }\n",
              "\n",
              "    .dataframe thead th {\n",
              "        text-align: right;\n",
              "    }\n",
              "</style>\n",
              "<table border=\"1\" class=\"dataframe\">\n",
              "  <thead>\n",
              "    <tr style=\"text-align: right;\">\n",
              "      <th></th>\n",
              "      <th>VendorID</th>\n",
              "      <th>tpep_pickup_datetime</th>\n",
              "      <th>tpep_dropoff_datetime</th>\n",
              "      <th>passenger_count</th>\n",
              "      <th>trip_distance</th>\n",
              "      <th>RatecodeID</th>\n",
              "      <th>store_and_fwd_flag</th>\n",
              "      <th>PULocationID</th>\n",
              "      <th>DOLocationID</th>\n",
              "      <th>payment_type</th>\n",
              "      <th>fare_amount</th>\n",
              "      <th>extra</th>\n",
              "      <th>mta_tax</th>\n",
              "      <th>tip_amount</th>\n",
              "      <th>tolls_amount</th>\n",
              "      <th>improvement_surcharge</th>\n",
              "      <th>total_amount</th>\n",
              "      <th>congestion_surcharge</th>\n",
              "    </tr>\n",
              "  </thead>\n",
              "  <tbody>\n",
              "    <tr>\n",
              "      <th>0</th>\n",
              "      <td>1</td>\n",
              "      <td>2019-02-01 00:59:04</td>\n",
              "      <td>2019-02-01 01:07:27</td>\n",
              "      <td>1</td>\n",
              "      <td>2.1</td>\n",
              "      <td>1</td>\n",
              "      <td>N</td>\n",
              "      <td>48</td>\n",
              "      <td>234</td>\n",
              "      <td>1</td>\n",
              "      <td>9.0</td>\n",
              "      <td>0.5</td>\n",
              "      <td>0.5</td>\n",
              "      <td>2.0</td>\n",
              "      <td>0.0</td>\n",
              "      <td>0.3</td>\n",
              "      <td>12.3</td>\n",
              "      <td>0.0</td>\n",
              "    </tr>\n",
              "    <tr>\n",
              "      <th>1</th>\n",
              "      <td>1</td>\n",
              "      <td>2019-02-01 00:33:09</td>\n",
              "      <td>2019-02-01 01:03:58</td>\n",
              "      <td>1</td>\n",
              "      <td>9.8</td>\n",
              "      <td>1</td>\n",
              "      <td>N</td>\n",
              "      <td>230</td>\n",
              "      <td>93</td>\n",
              "      <td>2</td>\n",
              "      <td>32.0</td>\n",
              "      <td>0.5</td>\n",
              "      <td>0.5</td>\n",
              "      <td>0.0</td>\n",
              "      <td>0.0</td>\n",
              "      <td>0.3</td>\n",
              "      <td>33.3</td>\n",
              "      <td>0.0</td>\n",
              "    </tr>\n",
              "    <tr>\n",
              "      <th>2</th>\n",
              "      <td>1</td>\n",
              "      <td>2019-02-01 00:09:03</td>\n",
              "      <td>2019-02-01 00:09:16</td>\n",
              "      <td>1</td>\n",
              "      <td>0.0</td>\n",
              "      <td>1</td>\n",
              "      <td>N</td>\n",
              "      <td>145</td>\n",
              "      <td>145</td>\n",
              "      <td>2</td>\n",
              "      <td>2.5</td>\n",
              "      <td>0.5</td>\n",
              "      <td>0.5</td>\n",
              "      <td>0.0</td>\n",
              "      <td>0.0</td>\n",
              "      <td>0.3</td>\n",
              "      <td>3.8</td>\n",
              "      <td>0.0</td>\n",
              "    </tr>\n",
              "    <tr>\n",
              "      <th>3</th>\n",
              "      <td>1</td>\n",
              "      <td>2019-02-01 00:45:38</td>\n",
              "      <td>2019-02-01 00:51:10</td>\n",
              "      <td>1</td>\n",
              "      <td>0.8</td>\n",
              "      <td>1</td>\n",
              "      <td>N</td>\n",
              "      <td>95</td>\n",
              "      <td>95</td>\n",
              "      <td>2</td>\n",
              "      <td>5.5</td>\n",
              "      <td>0.5</td>\n",
              "      <td>0.5</td>\n",
              "      <td>0.0</td>\n",
              "      <td>0.0</td>\n",
              "      <td>0.3</td>\n",
              "      <td>6.8</td>\n",
              "      <td>0.0</td>\n",
              "    </tr>\n",
              "    <tr>\n",
              "      <th>4</th>\n",
              "      <td>1</td>\n",
              "      <td>2019-02-01 00:25:30</td>\n",
              "      <td>2019-02-01 00:28:14</td>\n",
              "      <td>1</td>\n",
              "      <td>0.8</td>\n",
              "      <td>1</td>\n",
              "      <td>N</td>\n",
              "      <td>140</td>\n",
              "      <td>263</td>\n",
              "      <td>2</td>\n",
              "      <td>5.0</td>\n",
              "      <td>0.5</td>\n",
              "      <td>0.5</td>\n",
              "      <td>0.0</td>\n",
              "      <td>0.0</td>\n",
              "      <td>0.3</td>\n",
              "      <td>6.3</td>\n",
              "      <td>0.0</td>\n",
              "    </tr>\n",
              "    <tr>\n",
              "      <th>...</th>\n",
              "      <td>...</td>\n",
              "      <td>...</td>\n",
              "      <td>...</td>\n",
              "      <td>...</td>\n",
              "      <td>...</td>\n",
              "      <td>...</td>\n",
              "      <td>...</td>\n",
              "      <td>...</td>\n",
              "      <td>...</td>\n",
              "      <td>...</td>\n",
              "      <td>...</td>\n",
              "      <td>...</td>\n",
              "      <td>...</td>\n",
              "      <td>...</td>\n",
              "      <td>...</td>\n",
              "      <td>...</td>\n",
              "      <td>...</td>\n",
              "      <td>...</td>\n",
              "    </tr>\n",
              "    <tr>\n",
              "      <th>7019370</th>\n",
              "      <td>2</td>\n",
              "      <td>2019-02-28 23:29:08</td>\n",
              "      <td>2019-02-28 23:29:11</td>\n",
              "      <td>1</td>\n",
              "      <td>0.0</td>\n",
              "      <td>1</td>\n",
              "      <td>N</td>\n",
              "      <td>193</td>\n",
              "      <td>193</td>\n",
              "      <td>1</td>\n",
              "      <td>0.0</td>\n",
              "      <td>0.0</td>\n",
              "      <td>0.0</td>\n",
              "      <td>0.0</td>\n",
              "      <td>0.0</td>\n",
              "      <td>0.0</td>\n",
              "      <td>0.0</td>\n",
              "      <td>0.0</td>\n",
              "    </tr>\n",
              "    <tr>\n",
              "      <th>7019371</th>\n",
              "      <td>2</td>\n",
              "      <td>2019-02-28 22:48:47</td>\n",
              "      <td>2019-02-28 23:50:19</td>\n",
              "      <td>1</td>\n",
              "      <td>0.0</td>\n",
              "      <td>1</td>\n",
              "      <td>N</td>\n",
              "      <td>141</td>\n",
              "      <td>193</td>\n",
              "      <td>2</td>\n",
              "      <td>0.0</td>\n",
              "      <td>0.0</td>\n",
              "      <td>0.0</td>\n",
              "      <td>0.0</td>\n",
              "      <td>0.0</td>\n",
              "      <td>0.0</td>\n",
              "      <td>0.0</td>\n",
              "      <td>2.5</td>\n",
              "    </tr>\n",
              "    <tr>\n",
              "      <th>7019372</th>\n",
              "      <td>2</td>\n",
              "      <td>2019-02-28 23:41:23</td>\n",
              "      <td>2019-02-28 23:42:23</td>\n",
              "      <td>1</td>\n",
              "      <td>0.0</td>\n",
              "      <td>1</td>\n",
              "      <td>N</td>\n",
              "      <td>264</td>\n",
              "      <td>264</td>\n",
              "      <td>1</td>\n",
              "      <td>0.0</td>\n",
              "      <td>0.0</td>\n",
              "      <td>0.0</td>\n",
              "      <td>0.0</td>\n",
              "      <td>0.0</td>\n",
              "      <td>0.0</td>\n",
              "      <td>0.0</td>\n",
              "      <td>0.0</td>\n",
              "    </tr>\n",
              "    <tr>\n",
              "      <th>7019373</th>\n",
              "      <td>2</td>\n",
              "      <td>2019-02-28 23:12:52</td>\n",
              "      <td>2019-02-28 23:14:16</td>\n",
              "      <td>1</td>\n",
              "      <td>0.0</td>\n",
              "      <td>1</td>\n",
              "      <td>N</td>\n",
              "      <td>264</td>\n",
              "      <td>193</td>\n",
              "      <td>1</td>\n",
              "      <td>0.0</td>\n",
              "      <td>0.0</td>\n",
              "      <td>0.0</td>\n",
              "      <td>0.0</td>\n",
              "      <td>0.0</td>\n",
              "      <td>0.0</td>\n",
              "      <td>0.0</td>\n",
              "      <td>0.0</td>\n",
              "    </tr>\n",
              "    <tr>\n",
              "      <th>7019374</th>\n",
              "      <td>2</td>\n",
              "      <td>2019-02-28 23:10:35</td>\n",
              "      <td>2019-02-28 23:10:37</td>\n",
              "      <td>1</td>\n",
              "      <td>0.0</td>\n",
              "      <td>1</td>\n",
              "      <td>N</td>\n",
              "      <td>264</td>\n",
              "      <td>264</td>\n",
              "      <td>2</td>\n",
              "      <td>0.0</td>\n",
              "      <td>0.0</td>\n",
              "      <td>0.0</td>\n",
              "      <td>0.0</td>\n",
              "      <td>0.0</td>\n",
              "      <td>0.0</td>\n",
              "      <td>0.0</td>\n",
              "      <td>0.0</td>\n",
              "    </tr>\n",
              "  </tbody>\n",
              "</table>\n",
              "<p>7019375 rows × 18 columns</p>\n",
              "</div>"
            ],
            "text/plain": [
              "         VendorID tpep_pickup_datetime  ... total_amount  congestion_surcharge\n",
              "0               1  2019-02-01 00:59:04  ...         12.3                   0.0\n",
              "1               1  2019-02-01 00:33:09  ...         33.3                   0.0\n",
              "2               1  2019-02-01 00:09:03  ...          3.8                   0.0\n",
              "3               1  2019-02-01 00:45:38  ...          6.8                   0.0\n",
              "4               1  2019-02-01 00:25:30  ...          6.3                   0.0\n",
              "...           ...                  ...  ...          ...                   ...\n",
              "7019370         2  2019-02-28 23:29:08  ...          0.0                   0.0\n",
              "7019371         2  2019-02-28 22:48:47  ...          0.0                   2.5\n",
              "7019372         2  2019-02-28 23:41:23  ...          0.0                   0.0\n",
              "7019373         2  2019-02-28 23:12:52  ...          0.0                   0.0\n",
              "7019374         2  2019-02-28 23:10:35  ...          0.0                   0.0\n",
              "\n",
              "[7019375 rows x 18 columns]"
            ]
          },
          "metadata": {
            "tags": []
          },
          "execution_count": 18
        }
      ]
    },
    {
      "cell_type": "code",
      "metadata": {
        "id": "DMCxoGuEx_vu"
      },
      "source": [
        ""
      ],
      "execution_count": null,
      "outputs": []
    },
    {
      "cell_type": "code",
      "metadata": {
        "id": "EakiZ_8-x3c_"
      },
      "source": [
        ""
      ],
      "execution_count": null,
      "outputs": []
    },
    {
      "cell_type": "code",
      "metadata": {
        "id": "EQn37PpZ6IgC",
        "colab": {
          "base_uri": "https://localhost:8080/",
          "height": 87
        },
        "outputId": "68517542-fdd0-4c59-f700-d85e4448394b"
      },
      "source": [
        "non_num_cols=['tpep_pickup_datetime','tpep_dropoff_datetime','store_and_fwd_flag']\n",
        "print(df[non_num_cols].count())"
      ],
      "execution_count": null,
      "outputs": [
        {
          "output_type": "stream",
          "text": [
            "tpep_pickup_datetime     7019375\n",
            "tpep_dropoff_datetime    7019375\n",
            "store_and_fwd_flag       7019375\n",
            "dtype: int64\n"
          ],
          "name": "stdout"
        }
      ]
    },
    {
      "cell_type": "markdown",
      "metadata": {
        "id": "TrWY_R95bqH7"
      },
      "source": [
        "This shows that the non-numerical columns don't have any null values"
      ]
    },
    {
      "cell_type": "markdown",
      "metadata": {
        "id": "mssT0nEr-9w_"
      },
      "source": [
        "The 2 columns tpep_pickup_datetime and tpep_dropoff_datetime are now converted to datetime format which makes analysis of date and time data much more easier."
      ]
    },
    {
      "cell_type": "code",
      "metadata": {
        "id": "Fq0nXwWG4v6n"
      },
      "source": [
        "df['tpep_pickup_datetime']=pd.to_datetime(df['tpep_pickup_datetime'])\n",
        "df['tpep_dropoff_datetime']=pd.to_datetime(df['tpep_dropoff_datetime'])"
      ],
      "execution_count": null,
      "outputs": []
    },
    {
      "cell_type": "code",
      "metadata": {
        "id": "ID2teLYK4H1U",
        "colab": {
          "base_uri": "https://localhost:8080/",
          "height": 461
        },
        "outputId": "e72129f0-2651-4228-c29f-3cd896872480"
      },
      "source": [
        "df.info()"
      ],
      "execution_count": null,
      "outputs": [
        {
          "output_type": "stream",
          "text": [
            "<class 'pandas.core.frame.DataFrame'>\n",
            "RangeIndex: 7019375 entries, 0 to 7019374\n",
            "Data columns (total 18 columns):\n",
            " #   Column                 Dtype         \n",
            "---  ------                 -----         \n",
            " 0   VendorID               int64         \n",
            " 1   tpep_pickup_datetime   datetime64[ns]\n",
            " 2   tpep_dropoff_datetime  datetime64[ns]\n",
            " 3   passenger_count        int64         \n",
            " 4   trip_distance          float64       \n",
            " 5   RatecodeID             int64         \n",
            " 6   store_and_fwd_flag     object        \n",
            " 7   PULocationID           int64         \n",
            " 8   DOLocationID           int64         \n",
            " 9   payment_type           int64         \n",
            " 10  fare_amount            float64       \n",
            " 11  extra                  float64       \n",
            " 12  mta_tax                float64       \n",
            " 13  tip_amount             float64       \n",
            " 14  tolls_amount           float64       \n",
            " 15  improvement_surcharge  float64       \n",
            " 16  total_amount           float64       \n",
            " 17  congestion_surcharge   float64       \n",
            "dtypes: datetime64[ns](2), float64(9), int64(6), object(1)\n",
            "memory usage: 964.0+ MB\n"
          ],
          "name": "stdout"
        }
      ]
    },
    {
      "cell_type": "code",
      "metadata": {
        "id": "R2cxhbTzaiQG",
        "colab": {
          "base_uri": "https://localhost:8080/",
          "height": 230
        },
        "outputId": "3d90fcd4-b235-4643-fc05-e711ee84d47a"
      },
      "source": [
        "df['duration']=(df['tpep_dropoff_datetime'] - df['tpep_pickup_datetime']).dt.total_seconds()\n",
        "print(df['duration'])"
      ],
      "execution_count": null,
      "outputs": [
        {
          "output_type": "stream",
          "text": [
            "0           503.0\n",
            "1          1849.0\n",
            "2            13.0\n",
            "3           332.0\n",
            "4           164.0\n",
            "            ...  \n",
            "7019370       3.0\n",
            "7019371    3692.0\n",
            "7019372      60.0\n",
            "7019373      84.0\n",
            "7019374       2.0\n",
            "Name: duration, Length: 7019375, dtype: float64\n"
          ],
          "name": "stdout"
        }
      ]
    },
    {
      "cell_type": "code",
      "metadata": {
        "id": "S10czaJM_YC-",
        "colab": {
          "base_uri": "https://localhost:8080/",
          "height": 301
        },
        "outputId": "7cd43d8e-2a45-4d39-c5e0-6cc3ffe6545c"
      },
      "source": [
        "sns.distplot(df['passenger_count'],kde=False,color='black')\n",
        "plt.title('Distribution of Passenger Count',color='blue')\n",
        "plt.ylabel('NO. OF TRIPS')\n",
        "plt.show()"
      ],
      "execution_count": null,
      "outputs": [
        {
          "output_type": "display_data",
          "data": {
            "image/png": "[encoded data removed]",
            "text/plain": [
              "<Figure size 432x288 with 1 Axes>"
            ]
          },
          "metadata": {
            "tags": []
          }
        }
      ]
    },
    {
      "cell_type": "markdown",
      "metadata": {
        "id": "hg215Yxm2e9B"
      },
      "source": [
        "Here we see that the mostly 1 or 2 passengers avail the cab. The instance of large group of people travelling together is rare."
      ]
    },
    {
      "cell_type": "markdown",
      "metadata": {
        "id": "5qcfLjlOemhb"
      },
      "source": [
        "In this analysis our purpose is to predict **fare_amount**.We know that the taxis generally charge a fixed initial fee that is based on**\"per km distance\"** ***(trip_distance***),**\"per minute\"**(trip_duration).We have  column of trip_distance  but not a column of trip_duration. But we have **pickup time** and **drop_off time**.So we can find the duration of the trip"
      ]
    },
    {
      "cell_type": "code",
      "metadata": {
        "id": "q7xdi3RKlhSz"
      },
      "source": [
        "df['tpep_pickup_day']=df['tpep_pickup_datetime'].dt.day_name()\n",
        "df['tpep_dropoff_day']=df['tpep_dropoff_datetime'].dt.day_name()"
      ],
      "execution_count": null,
      "outputs": []
    },
    {
      "cell_type": "markdown",
      "metadata": {
        "id": "d1La1hMa9wxU"
      },
      "source": [
        "We convert the dates into days of the week ,in order to check that which days of the week have more no. of passengers."
      ]
    },
    {
      "cell_type": "code",
      "metadata": {
        "id": "XWa_Vtm4mozp",
        "colab": {
          "base_uri": "https://localhost:8080/",
          "height": 158
        },
        "outputId": "7d04ff2b-9e2e-423e-b4d8-2b3b3bc3fb43"
      },
      "source": [
        "df['tpep_pickup_day'].value_counts()"
      ],
      "execution_count": null,
      "outputs": [
        {
          "output_type": "execute_result",
          "data": {
            "text/plain": [
              "Friday       1105725\n",
              "Thursday     1078645\n",
              "Wednesday    1055788\n",
              "Saturday     1035833\n",
              "Tuesday       986366\n",
              "Monday        895047\n",
              "Sunday        861971\n",
              "Name: tpep_pickup_day, dtype: int64"
            ]
          },
          "metadata": {
            "tags": []
          },
          "execution_count": 25
        }
      ]
    },
    {
      "cell_type": "markdown",
      "metadata": {
        "id": "tyzrPKjam23e"
      },
      "source": [
        "This shows the distribuion of passengers on different days of the week.There may be various reasons as **SUNDAY** is a weekend day thus people go on outings."
      ]
    },
    {
      "cell_type": "code",
      "metadata": {
        "id": "lBSCoryMnbBV",
        "colab": {
          "base_uri": "https://localhost:8080/",
          "height": 158
        },
        "outputId": "656d544b-aa43-4917-b982-2effb8c8af96"
      },
      "source": [
        "df['tpep_dropoff_day'].value_counts()"
      ],
      "execution_count": null,
      "outputs": [
        {
          "output_type": "execute_result",
          "data": {
            "text/plain": [
              "Friday       1103311\n",
              "Thursday     1075813\n",
              "Wednesday    1054129\n",
              "Saturday     1035486\n",
              "Tuesday       984928\n",
              "Monday        895627\n",
              "Sunday        870081\n",
              "Name: tpep_dropoff_day, dtype: int64"
            ]
          },
          "metadata": {
            "tags": []
          },
          "execution_count": 26
        }
      ]
    },
    {
      "cell_type": "markdown",
      "metadata": {
        "id": "adzwxgyUn2Am"
      },
      "source": [
        "This shows that the maximum passengers have availed the taxi on **FRIDAY** and least on **SUNDAY**"
      ]
    },
    {
      "cell_type": "markdown",
      "metadata": {
        "id": "gIx89O61phk7"
      },
      "source": [
        "The distribution of trip duration with the days of the week is something to look into as well."
      ]
    },
    {
      "cell_type": "code",
      "metadata": {
        "id": "7Ada53bHr3J7",
        "colab": {
          "base_uri": "https://localhost:8080/",
          "height": 724
        },
        "outputId": "67c06c12-658a-4242-b30a-1943e68afa20"
      },
      "source": [
        "figure,ax=plt.subplots(nrows=2,ncols=1,figsize=(10,10))\n",
        "sns.countplot(x='tpep_pickup_day',data=df,ax=ax[0])\n",
        "ax[0].set_title('Number of Pickups done on each day of the week',color='green')\n",
        "sns.countplot(x='tpep_dropoff_day',data=df,ax=ax[1])\n",
        "ax[1].set_title('Number of dropoffs done on each day of the week',color='green')\n",
        "plt.tight_layout()"
      ],
      "execution_count": null,
      "outputs": [
        {
          "output_type": "display_data",
          "data": {
            "image/png": "[encoded data removed]",
            "text/plain": [
              "<Figure size 720x720 with 2 Axes>"
            ]
          },
          "metadata": {
            "tags": []
          }
        }
      ]
    },
    {
      "cell_type": "code",
      "metadata": {
        "id": "zkjy4xMVg02Q",
        "colab": {
          "base_uri": "https://localhost:8080/",
          "height": 293
        },
        "outputId": "00cee976-a740-47e9-8448-f0e74bd81261"
      },
      "source": [
        "plt.plot(df['passenger_count'],df['fare_amount'],linewidth=2,color='red')\n",
        "plt.title('Distribution of fare_amount w.r.t passenger_count',color='blue')\n",
        "plt.xlim(0,9)\n",
        "plt.ylim(0,700000)\n",
        "plt.margins(x=2,y=1)\n",
        "plt.tight_layout()"
      ],
      "execution_count": null,
      "outputs": [
        {
          "output_type": "display_data",
          "data": {
            "image/png": "[encoded data removed]",
            "text/plain": [
              "<Figure size 432x288 with 1 Axes>"
            ]
          },
          "metadata": {
            "tags": []
          }
        }
      ]
    },
    {
      "cell_type": "code",
      "metadata": {
        "id": "Xg-XxsB0tOpZ",
        "colab": {
          "base_uri": "https://localhost:8080/",
          "height": 407
        },
        "outputId": "2569ca82-006d-4b66-b2f3-91c1265727ad"
      },
      "source": [
        "figure,ax=plt.subplots(nrows=1,ncols=2,figsize=(12,5))\n",
        "df['pickup_hour']=df['tpep_pickup_datetime'].dt.hour\n",
        "df.pickup_hour.hist(bins=24,ax=ax[0])\n",
        "ax[0].set(title='Distribution of pickup hours',ylabel='No. of pickups',xlabel='pickup_hours')\n",
        "df['dropoff_hour']=df['tpep_dropoff_datetime'].dt.hour\n",
        "df.dropoff_hour.hist(bins=24,ax=ax[1])\n",
        "ax[1].set(title='Distribution of dropoff hours',xlabel='dropoff_hour',ylabel='No. of dropoffs')"
      ],
      "execution_count": null,
      "outputs": [
        {
          "output_type": "execute_result",
          "data": {
            "text/plain": [
              "[Text(0, 0.5, 'No. of dropoffs'),\n",
              " Text(0.5, 0, 'dropoff_hour'),\n",
              " Text(0.5, 1.0, 'Distribution of dropoff hours')]"
            ]
          },
          "metadata": {
            "tags": []
          },
          "execution_count": 29
        },
        {
          "output_type": "display_data",
          "data": {
            "image/png": "[encoded data removed]",
            "text/plain": [
              "<Figure size 864x360 with 2 Axes>"
            ]
          },
          "metadata": {
            "tags": []
          }
        }
      ]
    },
    {
      "cell_type": "markdown",
      "metadata": {
        "id": "VKRRojf-XGeZ"
      },
      "source": [
        "**This shows DISTRIBUTION OF PICKUPS & DROPOFFS IN 4 PARTS OF A DAY**\n",
        "\n",
        "The 2 distributions are almost similar and are also aligned with the division of the hours of the day into 4 parts 'MORNING','AFTERNOON','EVENING',LATE NIGHT' and their distribution,with respect to no. ofpickup and dropoffs.\n",
        "\n"
      ]
    },
    {
      "cell_type": "markdown",
      "metadata": {
        "id": "ANRAnZuCYxS-"
      },
      "source": [
        "This way we can find a new column of time duration of the trip,using pickup and dropoff time.This column **'duration'** is a series of trip duration in seconds"
      ]
    },
    {
      "cell_type": "markdown",
      "metadata": {
        "id": "tjcIYffHbL1X"
      },
      "source": [
        "**Distribution of the stored and forward flag**"
      ]
    },
    {
      "cell_type": "code",
      "metadata": {
        "id": "NKJRhdwXbHtB",
        "colab": {
          "base_uri": "https://localhost:8080/",
          "height": 70
        },
        "outputId": "3ee66376-7deb-42c5-84cb-44dac4ac2032"
      },
      "source": [
        "df['store_and_fwd_flag'].value_counts()  #This counts the value of STORE AND FORWARD FLAG i.e Y & N"
      ],
      "execution_count": null,
      "outputs": [
        {
          "output_type": "execute_result",
          "data": {
            "text/plain": [
              "N    6982876\n",
              "Y      36499\n",
              "Name: store_and_fwd_flag, dtype: int64"
            ]
          },
          "metadata": {
            "tags": []
          },
          "execution_count": 31
        }
      ]
    },
    {
      "cell_type": "markdown",
      "metadata": {
        "id": "9fAXSlkObV5q"
      },
      "source": [
        "The **number of N flag is much larger** **as compared to Y flag.** We can see whether they have any relation with the duration of the trip."
      ]
    },
    {
      "cell_type": "markdown",
      "metadata": {
        "id": "0AD21hcZZ9oG"
      },
      "source": [
        "**Distribution of the trip distance**"
      ]
    },
    {
      "cell_type": "code",
      "metadata": {
        "id": "vhUnejm4bzi4",
        "colab": {
          "base_uri": "https://localhost:8080/",
          "height": 318
        },
        "outputId": "99adec76-c8f7-4541-b812-e9e164989d1c"
      },
      "source": [
        "sns.distplot(df['trip_distance'],kde=False,color='black')\n",
        "plt.title('The distribution of of the Pick Up  Distace distribution')\n",
        "plt.xlabel('trip_distance',color='blue')\n",
        "plt.ylabel('no. of pickups',color='blue')"
      ],
      "execution_count": null,
      "outputs": [
        {
          "output_type": "execute_result",
          "data": {
            "text/plain": [
              "Text(0, 0.5, 'no. of pickups')"
            ]
          },
          "metadata": {
            "tags": []
          },
          "execution_count": 32
        },
        {
          "output_type": "display_data",
          "data": {
            "image/png": "[encoded data removed]",
            "text/plain": [
              "<Figure size 432x288 with 1 Axes>"
            ]
          },
          "metadata": {
            "tags": []
          }
        }
      ]
    },
    {
      "cell_type": "markdown",
      "metadata": {
        "id": "mGhc6UpeahgL"
      },
      "source": [
        "There are outliers. Lets see the boxplot of this variable."
      ]
    },
    {
      "cell_type": "code",
      "metadata": {
        "id": "0YvzNsyBoRam",
        "colab": {
          "base_uri": "https://localhost:8080/",
          "height": 318
        },
        "outputId": "7b30be52-86e8-4138-bf39-93ae63dceb91"
      },
      "source": [
        "sns.boxplot(df['trip_distance'], orient='horizontal')\n",
        "plt.title('A boxplot depicting the pickup distance distribution',color='blue')\n",
        "plt.xlabel('trip_distance',color='red')"
      ],
      "execution_count": null,
      "outputs": [
        {
          "output_type": "execute_result",
          "data": {
            "text/plain": [
              "Text(0.5, 0, 'trip_distance')"
            ]
          },
          "metadata": {
            "tags": []
          },
          "execution_count": 33
        },
        {
          "output_type": "display_data",
          "data": {
            "image/png": "[encoded data removed]",
            "text/plain": [
              "<Figure size 432x288 with 1 Axes>"
            ]
          },
          "metadata": {
            "tags": []
          }
        }
      ]
    },
    {
      "cell_type": "markdown",
      "metadata": {
        "id": "iua8nYUOb3t8"
      },
      "source": [
        "Thus we see there is **only two-three values near 200-300** while all the others are somewhere between **0 and 150**. The ones near **700 ,200-300 are definitely an outlier which must be treated.**"
      ]
    },
    {
      "cell_type": "markdown",
      "metadata": {
        "id": "pD711lgRcq6C"
      },
      "source": [
        "Lets have a look at the 10 largest value of trip_duration."
      ]
    },
    {
      "cell_type": "code",
      "metadata": {
        "id": "iwoG7pRkc36a",
        "colab": {
          "base_uri": "https://localhost:8080/",
          "height": 212
        },
        "outputId": "3a8c0a77-29cf-414c-88a4-c14469b3ab94"
      },
      "source": [
        "print( df['trip_distance'].nlargest(10))"
      ],
      "execution_count": null,
      "outputs": [
        {
          "output_type": "stream",
          "text": [
            "150992     701.50\n",
            "5722353    226.10\n",
            "3730068    209.38\n",
            "3667765    143.47\n",
            "4968139    138.64\n",
            "7008104    137.32\n",
            "686074     130.53\n",
            "3883334    130.22\n",
            "6727962    124.29\n",
            "5561859    120.60\n",
            "Name: trip_distance, dtype: float64\n"
          ],
          "name": "stdout"
        }
      ]
    },
    {
      "cell_type": "markdown",
      "metadata": {
        "id": "5UrUngFxdJTU"
      },
      "source": [
        "***THIS VERIFIES THE ABOVE BOXPLOT ***\n",
        "\n",
        "The largest value is much greater than the 2nd and 3rd largest trip duration value. This might be because of some errors which typically occurs during data collection or this might be a legit data. Since the occurrence of such a huge value is unlikely so its better to drop this row before further analysis."
      ]
    },
    {
      "cell_type": "code",
      "metadata": {
        "id": "YQAyGbged--C"
      },
      "source": [
        "df=df[df.trip_distance!=df.trip_distance.max()]"
      ],
      "execution_count": null,
      "outputs": []
    },
    {
      "cell_type": "markdown",
      "metadata": {
        "id": "IHB-NhrieKOD"
      },
      "source": [
        "Lets have a look at the distribution of the trip_duration after we have dropped the outlier."
      ]
    },
    {
      "cell_type": "code",
      "metadata": {
        "id": "dQSEyHP9eLn4",
        "colab": {
          "base_uri": "https://localhost:8080/",
          "height": 318
        },
        "outputId": "5bf307e3-0e85-4ea8-d378-e8295718a94c"
      },
      "source": [
        "sns.distplot(df['trip_distance'])\n",
        "plt.title('Distribution of the pickup distance after the treatment of outliers')"
      ],
      "execution_count": null,
      "outputs": [
        {
          "output_type": "execute_result",
          "data": {
            "text/plain": [
              "Text(0.5, 1.0, 'Distribution of the pickup distance after the treatment of outliers')"
            ]
          },
          "metadata": {
            "tags": []
          },
          "execution_count": 36
        },
        {
          "output_type": "display_data",
          "data": {
            "image/png": "[encoded data removed]",
            "text/plain": [
              "<Figure size 432x288 with 1 Axes>"
            ]
          },
          "metadata": {
            "tags": []
          }
        }
      ]
    },
    {
      "cell_type": "markdown",
      "metadata": {
        "id": "sD8ZfOsVe7Je"
      },
      "source": [
        "**Distribution of vendor_id**"
      ]
    },
    {
      "cell_type": "code",
      "metadata": {
        "id": "BqnKiJjYe_NX",
        "colab": {
          "base_uri": "https://localhost:8080/",
          "height": 296
        },
        "outputId": "7cbffc48-da78-439d-f253-30f962a5ef14"
      },
      "source": [
        "df['VendorID'].hist(bins=3)"
      ],
      "execution_count": null,
      "outputs": [
        {
          "output_type": "execute_result",
          "data": {
            "text/plain": [
              "<matplotlib.axes._subplots.AxesSubplot at 0x7f84adf8a4e0>"
            ]
          },
          "metadata": {
            "tags": []
          },
          "execution_count": 41
        },
        {
          "output_type": "display_data",
          "data": {
            "image/png": "[encoded data removed]",
            "text/plain": [
              "<Figure size 432x288 with 1 Axes>"
            ]
          },
          "metadata": {
            "tags": []
          }
        }
      ]
    },
    {
      "cell_type": "markdown",
      "metadata": {
        "id": "78e7GfyTkc2g"
      },
      "source": [
        "**Conclusion about Trip Distance and the data set:**\n",
        "Trip Distance varies a lot ranging from metres to more than 700 km\n",
        "1.Most trips are taken on Friday , Saturday and Thursday\n",
        "\n",
        "The average duration of a trip is most on Thursday and Friday as trips longer \n",
        "than 5 hours are mostly taken in these days\n",
        "\n",
        "The average distance of trips started in between 100 km and 150 km is the \n",
        "largest.\n",
        "\n",
        "Vendor 2 mostly provides the longer trips\n",
        "\n",
        "\n"
      ]
    }
  ]
}